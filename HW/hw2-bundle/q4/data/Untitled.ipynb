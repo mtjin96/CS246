{
 "cells": [
  {
   "cell_type": "code",
   "execution_count": 25,
   "metadata": {},
   "outputs": [],
   "source": [
    "import numpy as np\n",
    "import operator"
   ]
  },
  {
   "cell_type": "code",
   "execution_count": 47,
   "metadata": {},
   "outputs": [
    {
     "name": "stdout",
     "output_type": "stream",
     "text": [
      "[[1. 1. 1. 1. 1.]\n",
      " [0. 0. 0. 0. 0.]\n",
      " [1. 1. 0. 0. 1.]]\n"
     ]
    }
   ],
   "source": [
    "filename = 'user-shows_copy.txt'\n",
    "f = open(filename, 'r')\n",
    "\n",
    "# compute P\n",
    "p = np.zeros((3, 3))\n",
    "r = np.zeros((3, 5))\n",
    "i = 0\n",
    "for user in f:\n",
    "    ui = list(int(u) for u in user.strip().split())\n",
    "    r[i] = ui\n",
    "    p[i][i] = np.sum(ui)\n",
    "    i = i + 1\n",
    "print(r)"
   ]
  },
  {
   "cell_type": "code",
   "execution_count": 31,
   "metadata": {},
   "outputs": [],
   "source": [
    "users = [0] * 5"
   ]
  },
  {
   "cell_type": "code",
   "execution_count": 32,
   "metadata": {},
   "outputs": [
    {
     "name": "stdout",
     "output_type": "stream",
     "text": [
      "[2 2 1 1 2]\n"
     ]
    }
   ],
   "source": [
    "f = open(filename, 'r')\n",
    "for user in f:\n",
    "    ui = list(int(u) for u in user.strip().split())\n",
    "    users = np.add(users, ui)\n",
    "print(users)"
   ]
  },
  {
   "cell_type": "code",
   "execution_count": 33,
   "metadata": {},
   "outputs": [],
   "source": [
    "q = np.zeros((5, 5))\n",
    "for num in range(len(users)):\n",
    "    q[num][num] = users[num]"
   ]
  },
  {
   "cell_type": "code",
   "execution_count": 40,
   "metadata": {},
   "outputs": [],
   "source": [
    "q_half = q\n",
    "for i in range(len(users)):\n",
    "    if q_half[i][i] != 0:\n",
    "        q_half[i][i] = 1/np.sqrt(q_half[i][i])"
   ]
  },
  {
   "cell_type": "code",
   "execution_count": 49,
   "metadata": {},
   "outputs": [],
   "source": [
    "tau_1 = np.dot(r, q_half)\n",
    "tau_2 = np.dot(tau_1, np.transpose(r))\n",
    "tau_3 = np.dot(tau_2, r)\n",
    "tau_show = np.dot(tau_3, q_half)"
   ]
  },
  {
   "cell_type": "code",
   "execution_count": 50,
   "metadata": {},
   "outputs": [
    {
     "data": {
      "text/plain": [
       "array([[5.92443352, 5.92443352, 4.52268925, 4.52268925, 5.92443352],\n",
       "       [0.        , 0.        , 0.        , 0.        , 0.        ],\n",
       "       [4.24264069, 4.24264069, 2.52268925, 2.52268925, 4.24264069]])"
      ]
     },
     "execution_count": 50,
     "metadata": {},
     "output_type": "execute_result"
    }
   ],
   "source": [
    "tau_show"
   ]
  },
  {
   "cell_type": "code",
   "execution_count": 55,
   "metadata": {},
   "outputs": [],
   "source": [
    "s_show = tau_show[:, 0:4]"
   ]
  },
  {
   "cell_type": "code",
   "execution_count": 56,
   "metadata": {},
   "outputs": [
    {
     "data": {
      "text/plain": [
       "array([[5.92443352, 5.92443352, 4.52268925, 4.52268925],\n",
       "       [0.        , 0.        , 0.        , 0.        ],\n",
       "       [4.24264069, 4.24264069, 2.52268925, 2.52268925]])"
      ]
     },
     "execution_count": 56,
     "metadata": {},
     "output_type": "execute_result"
    }
   ],
   "source": [
    "s_show"
   ]
  },
  {
   "cell_type": "code",
   "execution_count": 72,
   "metadata": {},
   "outputs": [
    {
     "data": {
      "text/plain": [
       "{0: 4.242640687119286,\n",
       " 1: 4.242640687119286,\n",
       " 2: 2.5226892457611436,\n",
       " 3: 2.5226892457611436}"
      ]
     },
     "execution_count": 72,
     "metadata": {},
     "output_type": "execute_result"
    }
   ],
   "source": [
    "s_alex=s_show[2]\n",
    "alex = {}\n",
    "for i in range(len(s_alex)):\n",
    "    alex[i] = s_alex[i]\n",
    "alex"
   ]
  },
  {
   "cell_type": "code",
   "execution_count": 96,
   "metadata": {},
   "outputs": [],
   "source": [
    "recommend_alex = dict(sorted(alex.items(), key=lambda x: (x[1], x[0]))[0:3])"
   ]
  },
  {
   "cell_type": "code",
   "execution_count": 97,
   "metadata": {},
   "outputs": [
    {
     "data": {
      "text/plain": [
       "{2: 2.5226892457611436, 3: 2.5226892457611436, 0: 4.242640687119286}"
      ]
     },
     "execution_count": 97,
     "metadata": {},
     "output_type": "execute_result"
    }
   ],
   "source": [
    "recommend_alex"
   ]
  },
  {
   "cell_type": "code",
   "execution_count": 98,
   "metadata": {},
   "outputs": [],
   "source": [
    "showfile = 'shows_copy.txt'\n",
    "f_show = open(showfile, 'r')\n",
    "showi = []\n",
    "for show in f_show:\n",
    "    showi.append(show)"
   ]
  },
  {
   "cell_type": "code",
   "execution_count": 99,
   "metadata": {},
   "outputs": [
    {
     "data": {
      "text/plain": [
       "{2: 2.5226892457611436, 3: 2.5226892457611436, 0: 4.242640687119286}"
      ]
     },
     "execution_count": 99,
     "metadata": {},
     "output_type": "execute_result"
    }
   ],
   "source": [
    "recommend_alex"
   ]
  },
  {
   "cell_type": "code",
   "execution_count": 103,
   "metadata": {},
   "outputs": [
    {
     "name": "stdout",
     "output_type": "stream",
     "text": [
      "Top 4 Recommendation for Alex: \n",
      "\"Dancing with the Stars\"\n",
      " 2.5226892457611436\n",
      "\"The Colbert Report\"\n",
      " 2.5226892457611436\n",
      "\"The Situation Room with Wolf Blitzer\"\n",
      " 4.242640687119286\n"
     ]
    }
   ],
   "source": [
    "print('Top 4 Recommendation for Alex: ') \n",
    "for show,score in recommend_alex.items():\n",
    "    print(showi[show], score)"
   ]
  },
  {
   "cell_type": "code",
   "execution_count": null,
   "metadata": {},
   "outputs": [],
   "source": []
  }
 ],
 "metadata": {
  "kernelspec": {
   "display_name": "Python 3",
   "language": "python",
   "name": "python3"
  },
  "language_info": {
   "codemirror_mode": {
    "name": "ipython",
    "version": 3
   },
   "file_extension": ".py",
   "mimetype": "text/x-python",
   "name": "python",
   "nbconvert_exporter": "python",
   "pygments_lexer": "ipython3",
   "version": "3.6.5"
  }
 },
 "nbformat": 4,
 "nbformat_minor": 2
}
